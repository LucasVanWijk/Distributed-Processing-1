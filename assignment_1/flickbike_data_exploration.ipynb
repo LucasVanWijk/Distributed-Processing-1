{
 "cells": [
  {
   "cell_type": "markdown",
   "metadata": {},
   "source": [
    "### Het plan\n",
    "\n",
    "Hoe bereken je de groei van FlickBike? In het bijzonder: hoe voorspel je het aantal verhuurde fietsen op de dagen tussen 10 december 2019 en 31 januari 2020? \n",
    "\n",
    "### 1 Hoe bereken je  de groei van FlickBike? In het bijzonder: hoe voorspel je het aantal verhuurde fietsen op de dagen tussen 10 december 2019 en 31 januari 2020? \n",
    "Eerst zal ik kijken wat de seizoen effecten zijn\n",
    "\n",
    "Ik zal kijken of de groei te normaliseren is.\n",
    "\n",
    "Als eerste poging zal ik hiervoor eerst de dagen nemen met het zelfde soort weer. Dus bijvoorbeeld alle dagen waar de temperatuur tussen 15 en 25 graden licht en waar het niet heeft geregend. Hieruit kan ik een groei formule opstellen. \n",
    "\n",
    "Hierna maak ik een tweede model dat de afwijking voorspelt van het voorspelde gebruik op een bepaalde dag. Mijn model zou dan voor een normalen situatie voorspellen hoeveel gebruik er zal zijn op bijvoorbeeld 30 januari 2020. Daar komt dan een waarden uit zoals 400 verhuren op een dag. Mijn tweede model kijkt dan naar de factoren van een dag en bepaald welk effect dit heeft op het aantal. Dus bijvoorbeeld het regent dus gebruik neemt met 80% af en geeft dan terug 400 * 0.2 = 80 verhuringen \n",
    "\n",
    "### Welke invloeden verwacht je van, en op welke manier kun je je model gevoelig maken voor: \n",
    "##### Het weer. \n",
    "Op zonnige dagen en dagen waar het niet regent zullen er meer mensen met de fiets gaan  \n",
    "##### De dag van de week.  \n",
    "Aangezien de bikes voornamelijk voor woon werk verkeer worden gebruikt zal in het weekend en op feestdagen het gebruik dalen.\n",
    "Bijzondere dagen in het jaar, zoals feestdagen, schoolvakanties, etc. \n",
    "Zie 2\n",
    "Eventueel andere factoren. \n",
    "Vakantie seizoen. Aangezien het op een vliegveld wordt gebruikt is er een kans dat er tijdens de vakanties meer arbeid nodig is en de fietsen meer gebruikt kunnen worden. Misschien is dat nog geen groot genoegen factor nu maar dat is wel iets dat je kan gaan merken als het bedrijf is gegroeid.\n",
    "Net na nieuwjaar. Net na nieuwjaar hebben mensen goede voornemens en willen ze misschien vaker gaan fietsen. Dit kan een stijging veroorzaken.\n",
    "\n",
    "\n",
    "\n",
    "### 2 Hoe kan, op basis van data, worden voorspeld waar er tekorten van fietsen dreigen te ontstaan en hoe de fietsen het beste zo kunnen worden verplaatst dat ze zowel over het hele terrein van Schiphol-Oost beschikbaar zijn en tegelijkertijd vooral beschikbaar zijn op plaatsen waar het regelmatig druk is? \n",
    "Ik zal de dag opdelen in een aantal periode. Ochtend, Middag, Avond, Nacht.\n",
    "Ochtend = 5:00 tot 12:00\n",
    "Middag  = 12:00 tot 15:00\n",
    "Avond    = 15:00 tot 21:00\n",
    "Nacht    = 21:00 tot 5:00\n",
    "\n",
    "Deze tijden zijn niet definitief maar zullen op experimentelen wijzen worden verfijnd.\n",
    "Voor elke periode zal op elke dag een cluster worden gemaakt. Dan zullen de verschillende periode van de verschillende dagen (dus ochtend dag 1 met ochtend dag 2) worden vergeleken en hier nieuwe clusters van worden gemaakt. Het uiteindelijke resultaat is x locaties voor elke periode van een dag waar de fietsen naartoe kunnen worden gebracht.\n",
    "\n",
    "\n",
    "### 3 Hoe kun je berekenen met hoeveel fietsen zou FlickBike minimaal kunnen werken, zodanig dat te verwachten pieken op te vangen zijn?\n",
    "Met hoeveel fietsen zou FlickBike minimaal kunnen werken, zodanig dat te verwachten pieken op te vangen zijn?\n",
    "Ik zal opzoeken wanneer de pieken zijn. Ik zal kijken hoeveel fietsen er dan worden gebruikt. Ik zal voor deze momenten een groei formule bereken zoals ik bij 1 heb gedaan. Hiermee kan ik een schatting maken wanneer er hoeveel fietsen nodig zijn\n",
    "\n",
    "### 4 Visualisatie :\n",
    "4\tVoor 1 zou ik een lijn grafiek maken\n",
    "5\tVoor 2 zal ik de punten op een kaart laten zien voor elke periode\n",
    "6\tVoor 3 kan een gebruiker een dag opvragen en krijgt dan een bar chart te zien met de beschikbare fietsen en de vragen die ik voorspel\n",
    "\n"
   ]
  },
  {
   "cell_type": "code",
   "execution_count": null,
   "metadata": {},
   "outputs": [],
   "source": [
    "import numpy as np\n",
    "import matplotlib.pyplot as plt\n",
    "import pandas as pd\n",
    "import seaborn as sns;\n",
    "from sklearn.linear_model import LinearRegression\n",
    "from sklearn.ensemble import RandomForestRegressor\n",
    "from sklearn.ensemble import AdaBoostRegressor\n",
    "from sklearn.metrics import mean_squared_error\n",
    "\n",
    "%matplotlib inline"
   ]
  },
  {
   "cell_type": "code",
   "execution_count": null,
   "metadata": {},
   "outputs": [],
   "source": [
    "df = pd.read_csv(\"../data/bikes.csv\")\n",
    "df.date = pd.to_datetime(df.date)\n",
    "df.head()"
   ]
  },
  {
   "cell_type": "code",
   "execution_count": null,
   "metadata": {},
   "outputs": [],
   "source": [
    "df_days = df['date'].groupby(df.date.dt.floor('d')).count()\n",
    "df_days.plot(figsize=[20,7])\n",
    "plt.grid()"
   ]
  },
  {
   "cell_type": "markdown",
   "metadata": {},
   "source": [
    "# Invloed dag van de week"
   ]
  },
  {
   "cell_type": "code",
   "execution_count": null,
   "metadata": {},
   "outputs": [],
   "source": [
    "df_weekdays = df['date'].groupby(df.date.dt.weekday).count()\n",
    "df_weekdays /= len(df_weekdays)\n",
    "df_weekdays.plot()\n",
    "plt.grid()\n",
    "plt.title(\"Gemiddeld aantal fietsen verhuurd per weekdag\")"
   ]
  },
  {
   "cell_type": "markdown",
   "metadata": {},
   "source": [
    "# Invloed weer"
   ]
  },
  {
   "cell_type": "code",
   "execution_count": null,
   "metadata": {},
   "outputs": [],
   "source": [
    "# Read File\n",
    "df_weather = pd.read_csv('KNMI_20191231.txt', sep=\",\", header=None)\n",
    "df_weather.columns = ['location_id','date','sun_duration' ,'temp_max','rain_sum']\n",
    "\n",
    "df_weather[\"date\"] = pd.to_datetime(df[\"date\"], format=\"%Y-%m-%d\")\n",
    "# Convert 0.1 to 1\n",
    "df_weather['temp_max'] = df_weather['temp_max'] /10\n",
    "\n",
    "df_weather.head()"
   ]
  },
  {
   "cell_type": "code",
   "execution_count": null,
   "metadata": {},
   "outputs": [],
   "source": [
    "f = plt.figure(figsize=(10,10))\n",
    "plt.matshow(df.corr(), fignum=f.number)\n",
    "plt.xticks(range(df.shape[1]), df.columns, fontsize=14, rotation=45)\n",
    "plt.yticks(range(df.shape[1]), df.columns, fontsize=14)\n",
    "cb = plt.colorbar()\n",
    "cb.ax.tick_params(labelsize=14)\n",
    "plt.plot()"
   ]
  },
  {
   "cell_type": "code",
   "execution_count": null,
   "metadata": {},
   "outputs": [],
   "source": [
    "plt.figure(figsize=[20,7])\n",
    "plt.plot(df_weather.date, df_weather.temp_max, color='red', label='Max temperatuur')\n",
    "plt.title(\"Max temperatuur per dag\")"
   ]
  },
  {
   "cell_type": "code",
   "execution_count": null,
   "metadata": {},
   "outputs": [],
   "source": [
    "plt.figure(figsize=[20,7])\n",
    "plt.plot(df_weather.date, df_weather.rain_sum, color='blue', label='Regensom')\n",
    "plt.title(\"Regenval per dag\")"
   ]
  },
  {
   "cell_type": "code",
   "execution_count": null,
   "metadata": {},
   "outputs": [],
   "source": [
    "plt.figure(figsize=[20,7])\n",
    "plt.plot(df_weather.date, df_weather.sun_duration, color='yellow', label='Zonneschijn duratie')\n",
    "plt.title(\"Zonneschijn per dag\")"
   ]
  },
  {
   "cell_type": "code",
   "execution_count": null,
   "metadata": {},
   "outputs": [],
   "source": [
    "counts = pd.Series(df_days.values)\n",
    "df_weather.corrwith(counts)"
   ]
  },
  {
   "cell_type": "markdown",
   "metadata": {},
   "source": [
    "# Invloed feestdagen"
   ]
  },
  {
   "cell_type": "code",
   "execution_count": null,
   "metadata": {},
   "outputs": [],
   "source": [
    "holidays = [\n",
    "    '2019-01-01',\n",
    "    '2019-04-19',\n",
    "    '2019-05-30'\n",
    "]\n",
    "for holiday in holidays:\n",
    "    print(holiday, \":\",df_days[holiday])"
   ]
  }
 ],
 "metadata": {
  "kernelspec": {
   "display_name": "Python 3",
   "language": "python",
   "name": "python3"
  },
  "language_info": {
   "codemirror_mode": {
    "name": "ipython",
    "version": 3
   },
   "file_extension": ".py",
   "mimetype": "text/x-python",
   "name": "python",
   "nbconvert_exporter": "python",
   "pygments_lexer": "ipython3",
   "version": "3.7.6"
  }
 },
 "nbformat": 4,
 "nbformat_minor": 1
}
